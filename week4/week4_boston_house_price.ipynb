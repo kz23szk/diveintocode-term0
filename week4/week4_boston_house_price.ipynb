{
 "cells": [
  {
   "cell_type": "markdown",
   "metadata": {},
   "source": [
    "# 課題ボストン住宅価格　線形回帰\n",
    "\n",
    "## 線形回帰とは何か\n",
    "\n",
    "以下の観点をすべて含めて記述しましょう\n",
    "\n",
    "- 線形回帰とは何か。\n",
    "- 具体的に言うと？\n",
    "- 分類とは何が違うのか？\n",
    "\n",
    "線形回帰とは\n",
    "分類は\n",
    "\n",
    "あるN個の特徴を持ったデータXからある数値Yを決めることです。\n",
    "具体的ものとして下記のようなものがあります。\n",
    "- 家の価格予測\n",
    "家の特徴（面積、築年数、駅からの距離、風呂トイレ別かなどなど)から売値を予測するといった分析です。\n",
    "\n",
    "変数Xを特徴、説明変数もしくは独立変数（independent variable）、変数Yを目的変数、もしくは従属変数(dependent variable)といいます。\n",
    "\n",
    "※どの呼び方も使いますがこのノートブックではXを説明変数、Yを目的変数と呼びます。\n",
    "\n",
    "目的変数が数値のものを線形回帰といい、\n",
    "カテゴリーのものを分類といいます。\n",
    "\n",
    "- あやめという花の特徴から３品種（Setosa, Versicolor, Virginica）に分類する。"
   ]
  },
  {
   "cell_type": "markdown",
   "metadata": {},
   "source": [
    "## 必要なライブラリをimportする"
   ]
  },
  {
   "cell_type": "code",
   "execution_count": 1,
   "metadata": {},
   "outputs": [],
   "source": [
    "import numpy as np\n",
    "import matplotlib.pyplot as plt\n",
    "from sklearn.model_selection import train_test_split\n",
    "from sklearn.datasets import load_boston\n",
    "from scipy.stats import zscore\n",
    "import pandas as pd\n",
    "from sklearn.linear_model import LinearRegression\n",
    "from sklearn.preprocessing import PolynomialFeatures\n",
    "from sklearn.model_selection import train_test_split\n",
    "from sklearn.metrics import mean_squared_error\n",
    "% matplotlib inline"
   ]
  },
  {
   "cell_type": "markdown",
   "metadata": {},
   "source": [
    "## データを取得する"
   ]
  },
  {
   "cell_type": "code",
   "execution_count": 2,
   "metadata": {},
   "outputs": [
    {
     "data": {
      "text/plain": [
       "array(['CRIM', 'ZN', 'INDUS', 'CHAS', 'NOX', 'RM', 'AGE', 'DIS', 'RAD',\n",
       "       'TAX', 'PTRATIO', 'B', 'LSTAT'], dtype='<U7')"
      ]
     },
     "execution_count": 2,
     "metadata": {},
     "output_type": "execute_result"
    }
   ],
   "source": [
    "boston_data = load_boston()\n",
    "boston_data.feature_names"
   ]
  },
  {
   "cell_type": "markdown",
   "metadata": {},
   "source": [
    "## 取得データをDataFrameにする"
   ]
  },
  {
   "cell_type": "code",
   "execution_count": 3,
   "metadata": {},
   "outputs": [],
   "source": [
    "X = pd.DataFrame(boston_data.data,columns=boston_data.feature_names)\n",
    "y = pd.DataFrame(boston_data.target)"
   ]
  },
  {
   "cell_type": "markdown",
   "metadata": {},
   "source": [
    "## 説明変数を'LSTAT'のみにする"
   ]
  },
  {
   "cell_type": "code",
   "execution_count": 4,
   "metadata": {},
   "outputs": [],
   "source": [
    "X = X['LSTAT']"
   ]
  },
  {
   "cell_type": "markdown",
   "metadata": {},
   "source": [
    "## 単回帰と重回帰についての違いを記述せよ\n",
    "\n",
    "説明変数の違いで、\n",
    "説明変数が１つのものを**単回帰**といい、\n",
    "説明変数が２以上のものを**重回帰**という。"
   ]
  },
  {
   "cell_type": "markdown",
   "metadata": {},
   "source": [
    "※データを確認する"
   ]
  },
  {
   "cell_type": "code",
   "execution_count": 5,
   "metadata": {},
   "outputs": [
    {
     "data": {
      "text/plain": [
       "0    4.98\n",
       "1    9.14\n",
       "2    4.03\n",
       "3    2.94\n",
       "4    5.33\n",
       "Name: LSTAT, dtype: float64"
      ]
     },
     "execution_count": 5,
     "metadata": {},
     "output_type": "execute_result"
    }
   ],
   "source": [
    "X.head()"
   ]
  },
  {
   "cell_type": "code",
   "execution_count": 6,
   "metadata": {},
   "outputs": [
    {
     "data": {
      "text/html": [
       "<div>\n",
       "<style scoped>\n",
       "    .dataframe tbody tr th:only-of-type {\n",
       "        vertical-align: middle;\n",
       "    }\n",
       "\n",
       "    .dataframe tbody tr th {\n",
       "        vertical-align: top;\n",
       "    }\n",
       "\n",
       "    .dataframe thead th {\n",
       "        text-align: right;\n",
       "    }\n",
       "</style>\n",
       "<table border=\"1\" class=\"dataframe\">\n",
       "  <thead>\n",
       "    <tr style=\"text-align: right;\">\n",
       "      <th></th>\n",
       "      <th>0</th>\n",
       "    </tr>\n",
       "  </thead>\n",
       "  <tbody>\n",
       "    <tr>\n",
       "      <th>0</th>\n",
       "      <td>24.0</td>\n",
       "    </tr>\n",
       "    <tr>\n",
       "      <th>1</th>\n",
       "      <td>21.6</td>\n",
       "    </tr>\n",
       "    <tr>\n",
       "      <th>2</th>\n",
       "      <td>34.7</td>\n",
       "    </tr>\n",
       "    <tr>\n",
       "      <th>3</th>\n",
       "      <td>33.4</td>\n",
       "    </tr>\n",
       "    <tr>\n",
       "      <th>4</th>\n",
       "      <td>36.2</td>\n",
       "    </tr>\n",
       "  </tbody>\n",
       "</table>\n",
       "</div>"
      ],
      "text/plain": [
       "      0\n",
       "0  24.0\n",
       "1  21.6\n",
       "2  34.7\n",
       "3  33.4\n",
       "4  36.2"
      ]
     },
     "execution_count": 6,
     "metadata": {},
     "output_type": "execute_result"
    }
   ],
   "source": [
    "y.head()"
   ]
  },
  {
   "cell_type": "markdown",
   "metadata": {},
   "source": [
    "## テストデータに分割する"
   ]
  },
  {
   "cell_type": "code",
   "execution_count": 7,
   "metadata": {},
   "outputs": [],
   "source": [
    "X_train, X_test, y_train, y_test = train_test_split(X, y, test_size=0.2, random_state=0)"
   ]
  },
  {
   "cell_type": "markdown",
   "metadata": {},
   "source": [
    "※　データの形状を確認する"
   ]
  },
  {
   "cell_type": "code",
   "execution_count": 8,
   "metadata": {},
   "outputs": [
    {
     "name": "stdout",
     "output_type": "stream",
     "text": [
      "(404,) (102,) (404, 1) (102, 1)\n",
      "20.158102766798418\n",
      "0    20.158103\n",
      "dtype: float64\n"
     ]
    }
   ],
   "source": [
    "print(X_train.shape, X_test.shape, y_train.shape, y_test.shape)\n",
    "print(X_test.count() / (X_train.count()+ X_test.count()) * 100)\n",
    "print(y_test.count() / (y_train.count()+ y_test.count()) * 100)\n",
    "# テストデータが全体の20%になっているか確認\n",
    "# あまりが出る場合はぴったりになることはない"
   ]
  },
  {
   "cell_type": "markdown",
   "metadata": {},
   "source": [
    "##  学習"
   ]
  },
  {
   "cell_type": "code",
   "execution_count": 10,
   "metadata": {},
   "outputs": [
    {
     "data": {
      "text/plain": [
       "LinearRegression(copy_X=True, fit_intercept=True, n_jobs=1, normalize=False)"
      ]
     },
     "execution_count": 10,
     "metadata": {},
     "output_type": "execute_result"
    }
   ],
   "source": [
    "lin_1d = LinearRegression() # モデルとして線形回帰モデルを使用\n",
    "lin_1d.fit(X_train[:, np.newaxis], y_train) # トレーニングセットで学習する"
   ]
  },
  {
   "cell_type": "markdown",
   "metadata": {},
   "source": [
    "## 決定係数"
   ]
  },
  {
   "cell_type": "code",
   "execution_count": 11,
   "metadata": {},
   "outputs": [
    {
     "name": "stdout",
     "output_type": "stream",
     "text": [
      "一次式における'LSTAT'の住宅価格への決定係数は0.43\n"
     ]
    }
   ],
   "source": [
    "score_1d = lin_1d.score(X_test[:,np.newaxis], y_test)\n",
    "print(\"一次式における'LSTAT'の住宅価格への決定係数は%.2f\"%(score_1d))"
   ]
  },
  {
   "cell_type": "markdown",
   "metadata": {},
   "source": [
    "**決定係数**とは回帰分析によって求められた目的変数の予測値が実際の目的変数とどのくらい一致しているかを表している指標です。\n",
    "\n",
    "N個のテストデータで決定係数を求める場合、\n",
    "i番目の目的変数（教師情報）を$t_i$、予測値を$y_i$、教師情報の平均値を$\\mu$としたとき、\n",
    "$$\n",
    "R^2 = 1 - \\frac{\\frac{1}{N} \\sum_i^N (y_i-t_i)^2}{\\frac{1}{N} \\sum_i^N(y_i- \\mu)^2}\n",
    "$$\n",
    "で求めることができます。\n",
    "\n",
    "このときすべての予測値が実際のテストデータと一致した場合$\\sum$の部分が０になるため１となりこれが最大値となります。\n",
    "\n"
   ]
  },
  {
   "cell_type": "markdown",
   "metadata": {},
   "source": [
    "## 決定係数をいかなる場合も信じても良いか記述せよ(決定係数が高ければ、汎用性があるモデルと言えるか)\n",
    "\n",
    "\n"
   ]
  },
  {
   "cell_type": "markdown",
   "metadata": {},
   "source": [
    "### 回答：\n",
    "決定係数はいかなる場合を信じてもよいわけではありません。\n",
    "\n",
    "今回のようにテストデータでスコアを出しているので決定係数は**たまたまテストデータにフィットしている**かもしれず、そのテストデータだけで高いスコアが出ている可能性があります。\n",
    "そのため複数のサンプルに対してスコアして平均をとったり、全母集団を対象としてスコアを取るほうがより決定係数の信用性は高いといえます。\n",
    "\n",
    "また決定係数のみでモデルの良さが決まるわけではありません。\n",
    "説明変数の取り方によって決定係数は当然変わります。\n",
    "\n",
    "決定係数が多少低くてもビジネスとして成立していれば問題ありません。\n",
    "\n",
    "たとえば不動産会社が家の価格予測をしたときに説明変数となる駅からの距離や築年数は変えようがありませんが、\n",
    "少し見た目や　段差の有無、床の質感など少しコストをかければ変えられる説明変数を使ってそこそこの決定係数がでたとしましょう。\n",
    "\n",
    "それが不動産会社にとって最も活用できるデータであり、実際の業務に活用できる情報となります。\n",
    "\n",
    "このように実際のビジネスで機械学習を行うさいはどの説明変数を取るかが非常に重要になります。"
   ]
  },
  {
   "cell_type": "markdown",
   "metadata": {},
   "source": [
    "## 2,3,4次式の回帰\n",
    "\n",
    "PolynomialFeatures()とfit_transform()メソッドを使用して、2,3,4次式の回帰に挑戦しましょう。ここでも学習を行い、決定係数を求めましょう。\n",
    "\n",
    "### 下記がコードになります。"
   ]
  },
  {
   "cell_type": "code",
   "execution_count": 23,
   "metadata": {},
   "outputs": [
    {
     "name": "stdout",
     "output_type": "stream",
     "text": [
      "(404,)\n",
      "(404, 1)\n"
     ]
    },
    {
     "name": "stderr",
     "output_type": "stream",
     "text": [
      "/Users/kzfm/.pyenv/versions/anaconda3-5.1.0/lib/python3.6/site-packages/ipykernel_launcher.py:2: FutureWarning: reshape is deprecated and will raise in a subsequent release. Please use .values.reshape(...) instead\n",
      "  \n"
     ]
    }
   ],
   "source": [
    "print(X_train.shape)\n",
    "X_train = X_train.reshape( -1, 1)\n",
    "print(X_train.shape)"
   ]
  },
  {
   "cell_type": "code",
   "execution_count": 25,
   "metadata": {},
   "outputs": [
    {
     "name": "stdout",
     "output_type": "stream",
     "text": [
      "(102,)\n",
      "(102, 1)\n"
     ]
    }
   ],
   "source": [
    "print(X_test.shape)\n",
    "X_test = X_test.values.reshape( -1, 1)\n",
    "print(X_test.shape)"
   ]
  },
  {
   "cell_type": "code",
   "execution_count": 26,
   "metadata": {},
   "outputs": [
    {
     "name": "stdout",
     "output_type": "stream",
     "text": [
      "二次式における'LSTAT'の住宅価格への決定係数は0.52\n",
      "三次式における'LSTAT'の住宅価格への決定係数は0.54\n",
      "四次式における'LSTAT'の住宅価格への決定係数は0.57\n"
     ]
    }
   ],
   "source": [
    "lin_2d = LinearRegression()\n",
    "lin_3d = LinearRegression()\n",
    "lin_4d = LinearRegression()\n",
    "\n",
    "degree_2 = PolynomialFeatures(degree=2)\n",
    "degree_3 = PolynomialFeatures(degree=3)\n",
    "degree_4 = PolynomialFeatures(degree=4)\n",
    "\n",
    "x_train_2 = degree_2.fit_transform(X_train)\n",
    "x_train_3 = degree_3.fit_transform(X_train)\n",
    "x_train_4 = degree_4.fit_transform(X_train)\n",
    "\n",
    "lin_2d.fit(x_train_2, y_train)\n",
    "lin_3d.fit(x_train_3, y_train)\n",
    "lin_4d.fit(x_train_4, y_train)\n",
    "\n",
    "x_test_2 = degree_2.fit_transform(X_test)\n",
    "x_test_3 = degree_3.fit_transform(X_test)\n",
    "x_test_4 = degree_4.fit_transform(X_test)\n",
    "\n",
    "score_2d = lin_2d.score(x_test_2, y_test)\n",
    "score_3d = lin_3d.score(x_test_3, y_test)\n",
    "score_4d = lin_4d.score(x_test_4, y_test)\n",
    "\n",
    "print(\"二次式における'LSTAT'の住宅価格への決定係数は%.2f\"%(score_2d))\n",
    "print(\"三次式における'LSTAT'の住宅価格への決定係数は%.2f\"%(score_3d))\n",
    "print(\"四次式における'LSTAT'の住宅価格への決定係数は%.2f\"%(score_4d))"
   ]
  },
  {
   "cell_type": "markdown",
   "metadata": {},
   "source": [
    "## 次数が大きくなるとどうなるか記述せよ\n",
    "\n",
    "以下の観点をすべて含めて記述しましょう。\n",
    "\n",
    "- 説明変数をxとして、次数を増やしていくとどのように数式が変化していくか記述せよ（1次式 ax + b）\n",
    "- 次数を増やすとどのようなメリットが考えられるか\n",
    "- 次数を増やすとどのようなデメリットが考えられるか\n",
    "\n",
    "### 回答：\n",
    "\n",
    "説明変数をxとすると、次数を増やしていくと\n",
    "\n",
    "1次式： $ax+b$\n",
    "\n",
    "2次式： $ax^2+bx+c$\n",
    "\n",
    "3次式： $a^3x+bx^2+cx+d$\n",
    "\n",
    "と増えていき、n次式は $\\sum_i^n a_i x^i  (各パラメータは\\vec{a}={a_1, a_2, \\cdots, a_n})$で表現される。\n",
    "\n",
    "\n",
    "次元が大きくなるとそれだけデータに対してフィットするモデルを見つけ出すことができる（説明力が上がる）というメリットがあるが、\n",
    "反面学習したデータにフィットしすぎて（**オーバーフィッティング**）他のデータへの予測する性能が落ちることがある。これを汎化性能が落ちるという。\n",
    "これを防ぐために**正規化**という手法である程度防ぐことが可能となる。"
   ]
  },
  {
   "cell_type": "markdown",
   "metadata": {},
   "source": [
    "## 重回帰\n",
    "今回は、LSTATのみを使用したが、他の特徴量も使用して学習させましょう。重回帰を使用して、0.71以上の決定係数出れば合格です。\n",
    "\n",
    "ヒント\n",
    "\n",
    "- すべての特徴量を使用せず、相関が強い特徴量のみを使用してみましょう。\n",
    "- 次数を変更してみましょう。"
   ]
  },
  {
   "cell_type": "code",
   "execution_count": 32,
   "metadata": {},
   "outputs": [
    {
     "name": "stdout",
     "output_type": "stream",
     "text": [
      "<class 'pandas.core.series.Series'>\n",
      "(506,)\n"
     ]
    }
   ],
   "source": [
    "y.columns\n",
    "print(X.shape)"
   ]
  },
  {
   "cell_type": "code",
   "execution_count": 228,
   "metadata": {},
   "outputs": [
    {
     "name": "stdout",
     "output_type": "stream",
     "text": [
      "目的変数と正の相関が高い変数上位5つは\n",
      "TARGET    1.000000\n",
      "RM        0.695360\n",
      "ZN        0.360445\n",
      "B         0.333461\n",
      "DIS       0.249929\n",
      "CHAS      0.175260\n",
      "Name: TARGET, dtype: float64\n",
      "目的変数と負の相関が高い変数上位5つは\n",
      "LSTAT     -0.737663\n",
      "PTRATIO   -0.507787\n",
      "INDUS     -0.483725\n",
      "TAX       -0.468536\n",
      "NOX       -0.427321\n",
      "CRIM      -0.385832\n",
      "Name: TARGET, dtype: float64\n"
     ]
    },
    {
     "data": {
      "image/png": "[encoded data removed]",
      "text/plain": [
       "<matplotlib.figure.Figure at 0x1a1eb98780>"
      ]
     },
     "metadata": {},
     "output_type": "display_data"
    }
   ],
   "source": [
    "import seaborn as sns\n",
    "# すべての変数を含んだXを用意して相関係数を確認する\n",
    "X = pd.DataFrame(boston_data.data,columns=boston_data.feature_names)\n",
    "y = pd.DataFrame(boston_data.target, columns=['TARGET'])\n",
    "\n",
    "\n",
    "all_variables = pd.concat([X, pd.DataFrame(y)], axis=1)\n",
    "corr_mat = all_variables.corr()\n",
    "sns.heatmap(corr_mat)\n",
    "\n",
    "print('目的変数と正の相関が高い変数上位5つは')\n",
    "print(corr_mat.nlargest(6, 'TARGET')['TARGET'])\n",
    "\n",
    "print('目的変数と負の相関が高い変数上位5つは')\n",
    "print(corr_mat.nsmallest(6, 'TARGET')['TARGET'])\n",
    "\n",
    "#y = boston_data.target"
   ]
  },
  {
   "cell_type": "code",
   "execution_count": 217,
   "metadata": {},
   "outputs": [
    {
     "data": {
      "text/plain": [
       "<matplotlib.axes._subplots.AxesSubplot at 0x1a1ea7d208>"
      ]
     },
     "execution_count": 217,
     "metadata": {},
     "output_type": "execute_result"
    },
    {
     "data": {
      "image/png": "[encoded data removed]",
      "text/plain": [
       "<matplotlib.figure.Figure at 0x1a1f095748>"
      ]
     },
     "metadata": {},
     "output_type": "display_data"
    }
   ],
   "source": [
    "X_check = X[['RM', 'ZN', 'B', 'DIS', 'CHAS', 'LSTAT', 'PTRATIO', 'INDUS', 'TAX','NOX']]\n",
    "corr_mat = X_check.corr()\n",
    "sns.heatmap(corr_mat)"
   ]
  },
  {
   "cell_type": "markdown",
   "metadata": {},
   "source": [
    "上記の結果より目的変数との相関が強い変数を組み合わせて使ってみる。\n",
    "うまく行かなければ変数間の相関係数が高いものの片方を選ぶなど工夫する。"
   ]
  },
  {
   "cell_type": "code",
   "execution_count": 229,
   "metadata": {},
   "outputs": [],
   "source": [
    "#X = X[['RM', 'LSTAT', 'PTRATIO', 'INDUS', 'TAX']]\n",
    "#X = X[['RM', 'LSTAT', 'PTRATIO', 'INDUS', 'TAX', 'ZN']]\n",
    "X = X.loc[:, ['LSTAT', 'RM', 'B', 'DIS', 'ZN']].as_matrix()\n",
    "#X = X[['LSTAT','PTRATIO', 'RM', 'B', 'ZN']]\n",
    "X_train, X_test, y_train, y_test = train_test_split(X, y, test_size=0.2, random_state=0)"
   ]
  },
  {
   "cell_type": "code",
   "execution_count": 226,
   "metadata": {},
   "outputs": [
    {
     "name": "stdout",
     "output_type": "stream",
     "text": [
      "(404, 5) (102, 5) (404, 1) (102, 1)\n"
     ]
    }
   ],
   "source": [
    "print(X_train.shape, X_test.shape, y_train.shape, y_test.shape)\n",
    "#print(X_test.count() / (X_train.count()+ X_test.count()) * 100)\n",
    "#print(y_test.count() / (y_train.count()+ y_test.count()) * 100)"
   ]
  },
  {
   "cell_type": "code",
   "execution_count": 230,
   "metadata": {},
   "outputs": [
    {
     "name": "stdout",
     "output_type": "stream",
     "text": [
      "1次式における住宅価格への決定係数は0.59\n",
      "2次式における住宅価格への決定係数は0.72\n",
      "3次式における住宅価格への決定係数は0.67\n",
      "4次式における住宅価格への決定係数は0.07\n",
      "5次式における住宅価格への決定係数は-246.85\n",
      "6次式における住宅価格への決定係数は-9946818.67\n"
     ]
    }
   ],
   "source": [
    "# それぞれで学習モデルを用意\n",
    "\n",
    "for i in range(1,7):\n",
    "    degree_ = PolynomialFeatures(degree=i)\n",
    "    x_ =degree_.fit_transform(X_train)\n",
    "    lin_ = LinearRegression(normalize=True)\n",
    "    lin_.fit(x_, y_train)\n",
    "    x_test_ = degree_.fit_transform(X_test)\n",
    "    y_pred = lin_.predict(x_test_)\n",
    "    \n",
    "    score_ = lin_.score(x_test_, y_test)\n",
    "\n",
    "    print(\"%d次式における住宅価格への決定係数は%.2f\"%(i, score_))"
   ]
  },
  {
   "cell_type": "markdown",
   "metadata": {},
   "source": [
    "結果的に**２次式で説明変数にLSTAT, RM, B, DIS, ZNを使ったとき**にスコア0.72となり、0.71を上回りました。\n",
    "ただ相関係数が高いものを単純に並べただけではうまく行かず、特徴量エンジニアリングを学ぶ必要があると感じました。"
   ]
  },
  {
   "cell_type": "markdown",
   "metadata": {},
   "source": [
    "## 重回帰について記述せよ\n",
    "\n",
    "以下の観点をすべて含めて記述しましょう。\n",
    "\n",
    "- 説明変数を増やすことでどのようなメリットがあるか\n",
    "- 説明変数を増やすことでどのようなデメリットがあるか\n",
    "\n",
    "### 回答：\n",
    "\n",
    "重回帰とは**複数の説明変数を用いて回帰分析を行う**ことです。\n",
    "説明変数を増やすことで下記のメリット,デメリットがあります。\n",
    "\n",
    "#### メリット：\n",
    "- 適切な特徴量を選択することで性能が上がる。\n",
    "\n",
    "#### デメリット：\n",
    "- 実行時間や必要なリソースが増える\n",
    "- 目的変数に関係しない特徴でも学習してしまい、過学習に陥ることがある。\n",
    "- どの説明変数が有効かの検証が必要となる。\n",
    "- データの次元数が大きくなり過ぎると、そのデータで表現できる組み合わせが飛躍的に多くなってしまい、その結果、手元にある有限なサンプルデータでは十分な学習結果が得られなくなること(**次元の呪い**)\n"
   ]
  }
 ],
 "metadata": {
  "kernelspec": {
   "display_name": "Python 3",
   "language": "python",
   "name": "python3"
  },
  "language_info": {
   "codemirror_mode": {
    "name": "ipython",
    "version": 3
   },
   "file_extension": ".py",
   "mimetype": "text/x-python",
   "name": "python",
   "nbconvert_exporter": "python",
   "pygments_lexer": "ipython3",
   "version": "3.6.4"
  }
 },
 "nbformat": 4,
 "nbformat_minor": 2
}
