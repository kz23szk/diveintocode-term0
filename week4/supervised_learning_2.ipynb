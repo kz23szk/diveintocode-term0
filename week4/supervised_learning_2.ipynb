{
 "cells": [
  {
   "cell_type": "code",
   "execution_count": 1,
   "metadata": {},
   "outputs": [],
   "source": [
    "import numpy as np\n",
    "from sklearn.datasets import load_boston\n",
    "boston = load_boston()\n",
    "import pandas as pd\n",
    "X=pd.DataFrame(boston.data[:100,:], columns=boston.feature_names)\n",
    "y=boston.target[:100]\n",
    "# limit 100 data"
   ]
  },
  {
   "cell_type": "code",
   "execution_count": 2,
   "metadata": {},
   "outputs": [
    {
     "data": {
      "text/html": [
       "<div>\n",
       "<style scoped>\n",
       "    .dataframe tbody tr th:only-of-type {\n",
       "        vertical-align: middle;\n",
       "    }\n",
       "\n",
       "    .dataframe tbody tr th {\n",
       "        vertical-align: top;\n",
       "    }\n",
       "\n",
       "    .dataframe thead th {\n",
       "        text-align: right;\n",
       "    }\n",
       "</style>\n",
       "<table border=\"1\" class=\"dataframe\">\n",
       "  <thead>\n",
       "    <tr style=\"text-align: right;\">\n",
       "      <th></th>\n",
       "      <th>CRIM</th>\n",
       "      <th>ZN</th>\n",
       "      <th>INDUS</th>\n",
       "      <th>CHAS</th>\n",
       "      <th>NOX</th>\n",
       "      <th>RM</th>\n",
       "      <th>AGE</th>\n",
       "      <th>DIS</th>\n",
       "      <th>RAD</th>\n",
       "      <th>TAX</th>\n",
       "      <th>PTRATIO</th>\n",
       "      <th>B</th>\n",
       "      <th>LSTAT</th>\n",
       "    </tr>\n",
       "  </thead>\n",
       "  <tbody>\n",
       "    <tr>\n",
       "      <th>0</th>\n",
       "      <td>0.00632</td>\n",
       "      <td>18.0</td>\n",
       "      <td>2.31</td>\n",
       "      <td>0.0</td>\n",
       "      <td>0.538</td>\n",
       "      <td>6.575</td>\n",
       "      <td>65.2</td>\n",
       "      <td>4.0900</td>\n",
       "      <td>1.0</td>\n",
       "      <td>296.0</td>\n",
       "      <td>15.3</td>\n",
       "      <td>396.90</td>\n",
       "      <td>4.98</td>\n",
       "    </tr>\n",
       "    <tr>\n",
       "      <th>1</th>\n",
       "      <td>0.02731</td>\n",
       "      <td>0.0</td>\n",
       "      <td>7.07</td>\n",
       "      <td>0.0</td>\n",
       "      <td>0.469</td>\n",
       "      <td>6.421</td>\n",
       "      <td>78.9</td>\n",
       "      <td>4.9671</td>\n",
       "      <td>2.0</td>\n",
       "      <td>242.0</td>\n",
       "      <td>17.8</td>\n",
       "      <td>396.90</td>\n",
       "      <td>9.14</td>\n",
       "    </tr>\n",
       "    <tr>\n",
       "      <th>2</th>\n",
       "      <td>0.02729</td>\n",
       "      <td>0.0</td>\n",
       "      <td>7.07</td>\n",
       "      <td>0.0</td>\n",
       "      <td>0.469</td>\n",
       "      <td>7.185</td>\n",
       "      <td>61.1</td>\n",
       "      <td>4.9671</td>\n",
       "      <td>2.0</td>\n",
       "      <td>242.0</td>\n",
       "      <td>17.8</td>\n",
       "      <td>392.83</td>\n",
       "      <td>4.03</td>\n",
       "    </tr>\n",
       "    <tr>\n",
       "      <th>3</th>\n",
       "      <td>0.03237</td>\n",
       "      <td>0.0</td>\n",
       "      <td>2.18</td>\n",
       "      <td>0.0</td>\n",
       "      <td>0.458</td>\n",
       "      <td>6.998</td>\n",
       "      <td>45.8</td>\n",
       "      <td>6.0622</td>\n",
       "      <td>3.0</td>\n",
       "      <td>222.0</td>\n",
       "      <td>18.7</td>\n",
       "      <td>394.63</td>\n",
       "      <td>2.94</td>\n",
       "    </tr>\n",
       "    <tr>\n",
       "      <th>4</th>\n",
       "      <td>0.06905</td>\n",
       "      <td>0.0</td>\n",
       "      <td>2.18</td>\n",
       "      <td>0.0</td>\n",
       "      <td>0.458</td>\n",
       "      <td>7.147</td>\n",
       "      <td>54.2</td>\n",
       "      <td>6.0622</td>\n",
       "      <td>3.0</td>\n",
       "      <td>222.0</td>\n",
       "      <td>18.7</td>\n",
       "      <td>396.90</td>\n",
       "      <td>5.33</td>\n",
       "    </tr>\n",
       "  </tbody>\n",
       "</table>\n",
       "</div>"
      ],
      "text/plain": [
       "      CRIM    ZN  INDUS  CHAS    NOX     RM   AGE     DIS  RAD    TAX  \\\n",
       "0  0.00632  18.0   2.31   0.0  0.538  6.575  65.2  4.0900  1.0  296.0   \n",
       "1  0.02731   0.0   7.07   0.0  0.469  6.421  78.9  4.9671  2.0  242.0   \n",
       "2  0.02729   0.0   7.07   0.0  0.469  7.185  61.1  4.9671  2.0  242.0   \n",
       "3  0.03237   0.0   2.18   0.0  0.458  6.998  45.8  6.0622  3.0  222.0   \n",
       "4  0.06905   0.0   2.18   0.0  0.458  7.147  54.2  6.0622  3.0  222.0   \n",
       "\n",
       "   PTRATIO       B  LSTAT  \n",
       "0     15.3  396.90   4.98  \n",
       "1     17.8  396.90   9.14  \n",
       "2     17.8  392.83   4.03  \n",
       "3     18.7  394.63   2.94  \n",
       "4     18.7  396.90   5.33  "
      ]
     },
     "execution_count": 2,
     "metadata": {},
     "output_type": "execute_result"
    }
   ],
   "source": [
    "X.head()"
   ]
  },
  {
   "cell_type": "code",
   "execution_count": 3,
   "metadata": {},
   "outputs": [
    {
     "data": {
      "text/html": [
       "<div>\n",
       "<style scoped>\n",
       "    .dataframe tbody tr th:only-of-type {\n",
       "        vertical-align: middle;\n",
       "    }\n",
       "\n",
       "    .dataframe tbody tr th {\n",
       "        vertical-align: top;\n",
       "    }\n",
       "\n",
       "    .dataframe thead th {\n",
       "        text-align: right;\n",
       "    }\n",
       "</style>\n",
       "<table border=\"1\" class=\"dataframe\">\n",
       "  <thead>\n",
       "    <tr style=\"text-align: right;\">\n",
       "      <th></th>\n",
       "      <th>CRIM</th>\n",
       "      <th>ZN</th>\n",
       "      <th>INDUS</th>\n",
       "      <th>CHAS</th>\n",
       "      <th>NOX</th>\n",
       "      <th>RM</th>\n",
       "      <th>AGE</th>\n",
       "      <th>DIS</th>\n",
       "      <th>RAD</th>\n",
       "      <th>TAX</th>\n",
       "      <th>PTRATIO</th>\n",
       "      <th>B</th>\n",
       "      <th>LSTAT</th>\n",
       "    </tr>\n",
       "  </thead>\n",
       "  <tbody>\n",
       "    <tr>\n",
       "      <th>count</th>\n",
       "      <td>100.000000</td>\n",
       "      <td>100.000000</td>\n",
       "      <td>100.000000</td>\n",
       "      <td>100.0</td>\n",
       "      <td>100.000000</td>\n",
       "      <td>100.000000</td>\n",
       "      <td>100.000000</td>\n",
       "      <td>100.000000</td>\n",
       "      <td>100.000000</td>\n",
       "      <td>100.000000</td>\n",
       "      <td>100.00000</td>\n",
       "      <td>100.000000</td>\n",
       "      <td>100.000000</td>\n",
       "    </tr>\n",
       "    <tr>\n",
       "      <th>mean</th>\n",
       "      <td>0.283301</td>\n",
       "      <td>12.385000</td>\n",
       "      <td>6.668700</td>\n",
       "      <td>0.0</td>\n",
       "      <td>0.471321</td>\n",
       "      <td>6.234410</td>\n",
       "      <td>56.252000</td>\n",
       "      <td>5.177271</td>\n",
       "      <td>3.960000</td>\n",
       "      <td>289.490000</td>\n",
       "      <td>18.69000</td>\n",
       "      <td>385.301500</td>\n",
       "      <td>10.772900</td>\n",
       "    </tr>\n",
       "    <tr>\n",
       "      <th>std</th>\n",
       "      <td>0.389102</td>\n",
       "      <td>22.966802</td>\n",
       "      <td>3.162352</td>\n",
       "      <td>0.0</td>\n",
       "      <td>0.046836</td>\n",
       "      <td>0.490838</td>\n",
       "      <td>27.476787</td>\n",
       "      <td>1.412076</td>\n",
       "      <td>1.392041</td>\n",
       "      <td>45.922089</td>\n",
       "      <td>1.69893</td>\n",
       "      <td>27.386937</td>\n",
       "      <td>5.700031</td>\n",
       "    </tr>\n",
       "    <tr>\n",
       "      <th>min</th>\n",
       "      <td>0.006320</td>\n",
       "      <td>0.000000</td>\n",
       "      <td>0.740000</td>\n",
       "      <td>0.0</td>\n",
       "      <td>0.398000</td>\n",
       "      <td>5.399000</td>\n",
       "      <td>2.900000</td>\n",
       "      <td>3.092100</td>\n",
       "      <td>1.000000</td>\n",
       "      <td>216.000000</td>\n",
       "      <td>15.10000</td>\n",
       "      <td>232.600000</td>\n",
       "      <td>1.980000</td>\n",
       "    </tr>\n",
       "    <tr>\n",
       "      <th>25%</th>\n",
       "      <td>0.050395</td>\n",
       "      <td>0.000000</td>\n",
       "      <td>4.490000</td>\n",
       "      <td>0.0</td>\n",
       "      <td>0.437000</td>\n",
       "      <td>5.926250</td>\n",
       "      <td>35.225000</td>\n",
       "      <td>4.042225</td>\n",
       "      <td>3.000000</td>\n",
       "      <td>252.000000</td>\n",
       "      <td>17.90000</td>\n",
       "      <td>386.740000</td>\n",
       "      <td>6.702500</td>\n",
       "    </tr>\n",
       "    <tr>\n",
       "      <th>50%</th>\n",
       "      <td>0.102405</td>\n",
       "      <td>0.000000</td>\n",
       "      <td>6.910000</td>\n",
       "      <td>0.0</td>\n",
       "      <td>0.453000</td>\n",
       "      <td>6.130500</td>\n",
       "      <td>57.300000</td>\n",
       "      <td>4.990600</td>\n",
       "      <td>4.000000</td>\n",
       "      <td>284.000000</td>\n",
       "      <td>18.70000</td>\n",
       "      <td>394.395000</td>\n",
       "      <td>9.465000</td>\n",
       "    </tr>\n",
       "    <tr>\n",
       "      <th>75%</th>\n",
       "      <td>0.221050</td>\n",
       "      <td>18.750000</td>\n",
       "      <td>8.140000</td>\n",
       "      <td>0.0</td>\n",
       "      <td>0.524000</td>\n",
       "      <td>6.433000</td>\n",
       "      <td>81.775000</td>\n",
       "      <td>6.067175</td>\n",
       "      <td>4.250000</td>\n",
       "      <td>307.000000</td>\n",
       "      <td>19.70000</td>\n",
       "      <td>396.900000</td>\n",
       "      <td>13.315000</td>\n",
       "    </tr>\n",
       "    <tr>\n",
       "      <th>max</th>\n",
       "      <td>1.612820</td>\n",
       "      <td>100.000000</td>\n",
       "      <td>15.040000</td>\n",
       "      <td>0.0</td>\n",
       "      <td>0.538000</td>\n",
       "      <td>8.069000</td>\n",
       "      <td>100.000000</td>\n",
       "      <td>9.222900</td>\n",
       "      <td>8.000000</td>\n",
       "      <td>469.000000</td>\n",
       "      <td>21.10000</td>\n",
       "      <td>396.900000</td>\n",
       "      <td>30.810000</td>\n",
       "    </tr>\n",
       "  </tbody>\n",
       "</table>\n",
       "</div>"
      ],
      "text/plain": [
       "             CRIM          ZN       INDUS   CHAS         NOX          RM  \\\n",
       "count  100.000000  100.000000  100.000000  100.0  100.000000  100.000000   \n",
       "mean     0.283301   12.385000    6.668700    0.0    0.471321    6.234410   \n",
       "std      0.389102   22.966802    3.162352    0.0    0.046836    0.490838   \n",
       "min      0.006320    0.000000    0.740000    0.0    0.398000    5.399000   \n",
       "25%      0.050395    0.000000    4.490000    0.0    0.437000    5.926250   \n",
       "50%      0.102405    0.000000    6.910000    0.0    0.453000    6.130500   \n",
       "75%      0.221050   18.750000    8.140000    0.0    0.524000    6.433000   \n",
       "max      1.612820  100.000000   15.040000    0.0    0.538000    8.069000   \n",
       "\n",
       "              AGE         DIS         RAD         TAX    PTRATIO           B  \\\n",
       "count  100.000000  100.000000  100.000000  100.000000  100.00000  100.000000   \n",
       "mean    56.252000    5.177271    3.960000  289.490000   18.69000  385.301500   \n",
       "std     27.476787    1.412076    1.392041   45.922089    1.69893   27.386937   \n",
       "min      2.900000    3.092100    1.000000  216.000000   15.10000  232.600000   \n",
       "25%     35.225000    4.042225    3.000000  252.000000   17.90000  386.740000   \n",
       "50%     57.300000    4.990600    4.000000  284.000000   18.70000  394.395000   \n",
       "75%     81.775000    6.067175    4.250000  307.000000   19.70000  396.900000   \n",
       "max    100.000000    9.222900    8.000000  469.000000   21.10000  396.900000   \n",
       "\n",
       "            LSTAT  \n",
       "count  100.000000  \n",
       "mean    10.772900  \n",
       "std      5.700031  \n",
       "min      1.980000  \n",
       "25%      6.702500  \n",
       "50%      9.465000  \n",
       "75%     13.315000  \n",
       "max     30.810000  "
      ]
     },
     "execution_count": 3,
     "metadata": {},
     "output_type": "execute_result"
    }
   ],
   "source": [
    "X.describe()"
   ]
  },
  {
   "cell_type": "code",
   "execution_count": 4,
   "metadata": {},
   "outputs": [],
   "source": [
    "x = X['LSTAT'].values"
   ]
  },
  {
   "cell_type": "code",
   "execution_count": 5,
   "metadata": {},
   "outputs": [
    {
     "data": {
      "text/plain": [
       "<matplotlib.collections.PathCollection at 0x112ca0518>"
      ]
     },
     "execution_count": 5,
     "metadata": {},
     "output_type": "execute_result"
    },
    {
     "data": {
      "image/png": "[encoded data removed]",
      "text/plain": [
       "<matplotlib.figure.Figure at 0x10c605748>"
      ]
     },
     "metadata": {},
     "output_type": "display_data"
    }
   ],
   "source": [
    "import matplotlib.pyplot as plt\n",
    "import seaborn as sns\n",
    "%matplotlib inline\n",
    "plt.scatter(x,y)"
   ]
  },
  {
   "cell_type": "code",
   "execution_count": 6,
   "metadata": {},
   "outputs": [],
   "source": [
    "from sklearn.linear_model import LinearRegression\n",
    "lin_1d  = LinearRegression()"
   ]
  },
  {
   "cell_type": "code",
   "execution_count": 7,
   "metadata": {},
   "outputs": [
    {
     "data": {
      "text/plain": [
       "LinearRegression(copy_X=True, fit_intercept=True, n_jobs=1, normalize=False)"
      ]
     },
     "execution_count": 7,
     "metadata": {},
     "output_type": "execute_result"
    }
   ],
   "source": [
    "lin_1d.fit(x[:,None], y)"
   ]
  },
  {
   "cell_type": "code",
   "execution_count": 8,
   "metadata": {},
   "outputs": [
    {
     "data": {
      "text/plain": [
       "1"
      ]
     },
     "execution_count": 8,
     "metadata": {},
     "output_type": "execute_result"
    }
   ],
   "source": [
    "x.ndim"
   ]
  },
  {
   "cell_type": "code",
   "execution_count": 9,
   "metadata": {},
   "outputs": [
    {
     "data": {
      "text/plain": [
       "2"
      ]
     },
     "execution_count": 9,
     "metadata": {},
     "output_type": "execute_result"
    }
   ],
   "source": [
    "x[:, np.newaxis].ndim"
   ]
  },
  {
   "cell_type": "code",
   "execution_count": 10,
   "metadata": {},
   "outputs": [
    {
     "name": "stdout",
     "output_type": "stream",
     "text": [
      "[29.09604558]\n"
     ]
    }
   ],
   "source": [
    "print(lin_1d.predict(2))"
   ]
  },
  {
   "cell_type": "code",
   "execution_count": 11,
   "metadata": {},
   "outputs": [
    {
     "data": {
      "text/plain": [
       "[]"
      ]
     },
     "execution_count": 11,
     "metadata": {},
     "output_type": "execute_result"
    },
    {
     "data": {
      "image/png": "[encoded data removed]",
      "text/plain": [
       "<matplotlib.figure.Figure at 0x113839860>"
      ]
     },
     "metadata": {},
     "output_type": "display_data"
    }
   ],
   "source": [
    "n = np.linspace(np.min(x), np.max(x), 1000)\n",
    "y_1d_fit = lin_1d.predict(n[:, np.newaxis])\n",
    "\n",
    "plt.title(\"Boston House Price\")\n",
    "plt.scatter(x,y,label='data')\n",
    "plt.plot(n, y_1d_fit, 'r', label='1d_lin')\n",
    "plt.ylim(10, 40)\n",
    "plt.xlabel(\"LSTAT\")\n",
    "plt.ylabel(\"price\")\n",
    "plt.legend()\n",
    "plt.plot()"
   ]
  },
  {
   "cell_type": "code",
   "execution_count": 12,
   "metadata": {},
   "outputs": [],
   "source": [
    "from sklearn.preprocessing import PolynomialFeatures\n",
    "degree_2 = PolynomialFeatures(degree=2)"
   ]
  },
  {
   "cell_type": "code",
   "execution_count": 13,
   "metadata": {},
   "outputs": [
    {
     "data": {
      "text/plain": [
       "PolynomialFeatures(degree=2, include_bias=True, interaction_only=False)"
      ]
     },
     "execution_count": 13,
     "metadata": {},
     "output_type": "execute_result"
    }
   ],
   "source": [
    "degree_2"
   ]
  },
  {
   "cell_type": "code",
   "execution_count": 14,
   "metadata": {},
   "outputs": [],
   "source": [
    "x_2 = degree_2.fit_transform(x[:,None])"
   ]
  },
  {
   "cell_type": "code",
   "execution_count": 15,
   "metadata": {},
   "outputs": [
    {
     "data": {
      "text/plain": [
       "LinearRegression(copy_X=True, fit_intercept=True, n_jobs=1, normalize=False)"
      ]
     },
     "execution_count": 15,
     "metadata": {},
     "output_type": "execute_result"
    }
   ],
   "source": [
    "x_2\n",
    "lin_2d = LinearRegression()\n",
    "lin_2d.fit(x_2, y)"
   ]
  },
  {
   "cell_type": "code",
   "execution_count": 16,
   "metadata": {},
   "outputs": [
    {
     "data": {
      "text/plain": [
       "[]"
      ]
     },
     "execution_count": 16,
     "metadata": {},
     "output_type": "execute_result"
    },
    {
     "data": {
      "image/png": "[encoded data removed]",
      "text/plain": [
       "<matplotlib.figure.Figure at 0x11387aef0>"
      ]
     },
     "metadata": {},
     "output_type": "display_data"
    }
   ],
   "source": [
    "n = np.linspace(np.min(x), np.max(x), 1000)\n",
    "y_2d_fit=lin_2d.predict(degree_2.fit_transform(n[:, np.newaxis]))\n",
    "y_1d_fit=lin_1d.predict(n[:,np.newaxis]) \n",
    "\n",
    "plt.title(\"Boston House Price\")\n",
    "plt.scatter(x,y,label='data')\n",
    "plt.plot(n, y_2d_fit, 'g', label='2d_lin')\n",
    "plt.plot(n, y_1d_fit, 'r', label='1d_lin')\n",
    "plt.ylim(10, 40)\n",
    "plt.xlabel(\"LSTAT\")\n",
    "plt.ylabel(\"price\")\n",
    "plt.legend()\n",
    "plt.plot()"
   ]
  },
  {
   "cell_type": "code",
   "execution_count": 17,
   "metadata": {},
   "outputs": [
    {
     "data": {
      "text/plain": [
       "15.537906007479371"
      ]
     },
     "execution_count": 17,
     "metadata": {},
     "output_type": "execute_result"
    }
   ],
   "source": [
    "from sklearn.metrics import mean_squared_error\n",
    "\n",
    "mean_squared_error(y, lin_1d.predict(x[:,np.newaxis]))"
   ]
  },
  {
   "cell_type": "code",
   "execution_count": 18,
   "metadata": {},
   "outputs": [
    {
     "data": {
      "text/plain": [
       "10.920226905348915"
      ]
     },
     "execution_count": 18,
     "metadata": {},
     "output_type": "execute_result"
    }
   ],
   "source": [
    "mean_squared_error(y, lin_2d.predict(x_2))"
   ]
  },
  {
   "cell_type": "markdown",
   "metadata": {},
   "source": [
    "## 課題１\n",
    "\n",
    "まず今回テキストではLSTATのデータ100個に対し、1次、2次関数をフィッティングしました。もしさらに高次の３次関数、4次関数をフィッティングするとどうなるのでしょうか。\n",
    "テキストで学んだscikit learnを使った手法で、3次、4次関数についても、同じように係数を求め、結果をデータ点、1次関数、2次関数、3次関数、4次関数をまとめてプロットしてみましょう。また学習後の2乗和誤差を3次関数、4次関数についても求め、2乗和誤差が最も小さい関数はどれになるか調べてください。（プロットを見やすくするためデータ点はテキストの通り100個で行ってください。）"
   ]
  },
  {
   "cell_type": "markdown",
   "metadata": {},
   "source": [
    "### 回答：\n",
    "ソースコードとプロット図とそれぞれの関数の二乗誤差は下記にあり、\n",
    "最も小さいのは**４次関数**になる。"
   ]
  },
  {
   "cell_type": "code",
   "execution_count": 19,
   "metadata": {},
   "outputs": [
    {
     "name": "stdout",
     "output_type": "stream",
     "text": [
      "15.537906007479371\n",
      "10.920226905348915\n",
      "10.05522570974638\n",
      "9.617390715416688\n"
     ]
    },
    {
     "data": {
      "image/png": "[encoded data removed]",
      "text/plain": [
       "<matplotlib.figure.Figure at 0x1138e3668>"
      ]
     },
     "metadata": {},
     "output_type": "display_data"
    }
   ],
   "source": [
    "degree_3 = PolynomialFeatures(degree=3)\n",
    "degree_4 = PolynomialFeatures(degree=4)\n",
    "\n",
    "x_3 = degree_3.fit_transform(x[:,None])\n",
    "x_4 = degree_4.fit_transform(x[:,None])\n",
    "\n",
    "lin_3d = LinearRegression()\n",
    "lin_4d = LinearRegression()\n",
    "\n",
    "lin_3d.fit(x_3, y)\n",
    "lin_4d.fit(x_4, y)\n",
    "\n",
    "n = np.linspace(np.min(x), np.max(x), 1000)\n",
    "\n",
    "y_3d_fit=lin_3d.predict(degree_3.fit_transform(n[:, np.newaxis]))\n",
    "y_4d_fit=lin_4d.predict(degree_4.fit_transform(n[:, np.newaxis]))\n",
    "\n",
    "plt.title(\"Boston House Price\")\n",
    "plt.scatter(x,y,label='data')\n",
    "plt.plot(n, y_2d_fit, 'g', label='2d_lin')\n",
    "plt.plot(n, y_1d_fit, 'r', label='1d_lin')\n",
    "plt.plot(n, y_3d_fit, 'b', label='3d_lin')\n",
    "plt.plot(n, y_4d_fit, 'y', label='4d_lin')\n",
    "plt.ylim(10, 40)\n",
    "plt.xlabel(\"LSTAT\")\n",
    "plt.ylabel(\"price\")\n",
    "plt.legend()\n",
    "plt.plot()\n",
    "\n",
    "print(mean_squared_error(y, lin_1d.predict(x[:,np.newaxis])))\n",
    "print(mean_squared_error(y, lin_2d.predict(x_2)))\n",
    "print(mean_squared_error(y, lin_3d.predict(x_3)))\n",
    "print(mean_squared_error(y, lin_4d.predict(x_4)))"
   ]
  },
  {
   "cell_type": "markdown",
   "metadata": {},
   "source": [
    "## 課題2\n",
    "\n",
    "もう少し回帰の練習をつむため、今度は同じボストンの住宅価格のデータセットにおいて特徴量としてLSTATではなくAGEを使ってみましょう。\n",
    "\n",
    "```x=X['AGE'].values```\n",
    "\n",
    "とすればデータを読み込むことができます。\n",
    "\n",
    "このデータについてもテキストで学んだscikit learnを使った手法で１次から4次関数についてまで、同じように係数を求め、結果をデータ点、1次関数、2次関数、3次関数、4次関数をまとめてプロットしてみましょう。また学習後の2乗和誤差をそれぞれについても求め、2乗和誤差が最も小さい関数はどれになるか調べてください。\n"
   ]
  },
  {
   "cell_type": "code",
   "execution_count": 23,
   "metadata": {},
   "outputs": [
    {
     "name": "stdout",
     "output_type": "stream",
     "text": [
      "1次関数の２乗誤差は\n",
      "26.754508704139507\n",
      "2次関数の２乗誤差は\n",
      "24.39708813651596\n",
      "3次関数の２乗誤差は\n",
      "23.97824219967744\n",
      "4次関数の２乗誤差は\n",
      "23.956816976819297\n"
     ]
    },
    {
     "data": {
      "text/plain": [
       "[]"
      ]
     },
     "execution_count": 23,
     "metadata": {},
     "output_type": "execute_result"
    },
    {
     "data": {
      "image/png": "[encoded data removed]",
      "text/plain": [
       "<matplotlib.figure.Figure at 0x113a7ed68>"
      ]
     },
     "metadata": {},
     "output_type": "display_data"
    }
   ],
   "source": [
    "# モジュールインポート以外をもう一度最初からやってみる\n",
    "boston  = load_boston()\n",
    "X = pd.DataFrame(boston.data[:100,:], columns=boston.feature_names)\n",
    "y=boston.target[:100]\n",
    "#データを100個に限っているのは後でグラフをプロットしたときの様子を見やすくするため\n",
    "x = X['AGE'].values\n",
    "\n",
    "y_pred = [] \n",
    "\n",
    "for i in [1, 2, 3, 4]:\n",
    "    # 線形回帰モデルを使う\n",
    "    lin_ = LinearRegression()\n",
    "    if i == 1:\n",
    "        x_ = x[:, np.newaxis]\n",
    "    else:\n",
    "        degree_ = PolynomialFeatures(degree=i)\n",
    "        x_ = degree_.fit_transform(x[:, None])\n",
    "    \n",
    "    lin_.fit(x_, y)\n",
    "    n = np.linspace(np.min(x), np.max(x), 1000)\n",
    "\n",
    "    if i ==1:\n",
    "        y_pred.append(lin_.predict(n[:, np.newaxis]))\n",
    "        print('1次関数の２乗誤差は')\n",
    "        print(mean_squared_error(y, lin_.predict(x_)))\n",
    "    else:\n",
    "        y_pred.append(lin_.predict(degree_.fit_transform(n[:, np.newaxis])))\n",
    "        print('{}次関数の２乗誤差は'.format(i))\n",
    "        print(mean_squared_error(y, lin_.predict(x_)))\n",
    "    \n",
    "\n",
    "plt.title(\"Boston House Price\")\n",
    "plt.scatter(x,y,label='data')\n",
    "plt.plot(n, y_pred[0], 'g', label='1d_lin')\n",
    "plt.plot(n, y_pred[1], 'r',  label='2d_lin')\n",
    "plt.plot(n, y_pred[2], 'b', label='3d_lin')\n",
    "plt.plot(n, y_pred[3], 'y', label='4d_lin')\n",
    "plt.ylim(10, 40)\n",
    "plt.xlabel(\"AGE\")\n",
    "plt.ylabel(\"price\")\n",
    "plt.legend()\n",
    "plt.plot()"
   ]
  },
  {
   "cell_type": "markdown",
   "metadata": {},
   "source": [
    "### 回答\n",
    "上記ソースコードでプロットしており、２乗誤差が最小なのは４次関数となる。"
   ]
  },
  {
   "cell_type": "code",
   "execution_count": null,
   "metadata": {},
   "outputs": [],
   "source": []
  }
 ],
 "metadata": {
  "kernelspec": {
   "display_name": "Python 3",
   "language": "python",
   "name": "python3"
  },
  "language_info": {
   "codemirror_mode": {
    "name": "ipython",
    "version": 3
   },
   "file_extension": ".py",
   "mimetype": "text/x-python",
   "name": "python",
   "nbconvert_exporter": "python",
   "pygments_lexer": "ipython3",
   "version": "3.6.4"
  }
 },
 "nbformat": 4,
 "nbformat_minor": 2
}
