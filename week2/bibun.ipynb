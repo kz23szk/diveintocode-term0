{
 "cells": [
  {
   "cell_type": "markdown",
   "metadata": {},
   "source": [
    "# 微分とは\n",
    "\n",
    "関数のある時点の傾き、つまり変化の割合を求めることを**微分する**という。\n",
    "\n",
    "関数 $y = f(x)$があったとき、ある点 $x_1$での$x$軸の単位あたりの$y$の増加量になる。\n",
    "\n",
    "具体例としてある乗り物の時間（秒）と走行距離（m）の関数 $y = x^2 $を考えてみる。\n",
    "\n",
    "$x_1$秒時点から$h$秒たったときの$x_1 + h$時点の距離の変化量$\\Delta y$を計算すると\n",
    "\n",
    "\\begin{align}\n",
    " \\Delta y = \\frac{f(x_1 + h) - f(x_1) }{(x_1-h)-x_1}\\\\\n",
    "= \\frac{(x_1 + h)^2 - x_1^2}{h} \\\\\n",
    "= \\frac{x_1^2 +2x_1h + h^2 - x_1^2}{h}\\\\\n",
    "= 2x_1 + h\n",
    "\\end{align}\n",
    "となる。これはどの時間x_iでも成り立つため$\\Delta y=2x + h $となる。\n",
    "\n",
    "たとえば、２秒時点で次の１秒間で進む距離は$\\Delta y = 2 *2 + 1 =5$なので$5$m進むことが分かる。\n",
    "\n",
    "ではhを０に近づけていくとどうなるか。\n",
    "\n",
    "$$ f'(x) = \\lim_{h \\to 0} \\Delta y\\\\\n",
    "= \\lim_{h \\to 0} 2x + h \\\\\n",
    "= 2x\n",
    "$$\n",
    "\n",
    "となる。\n",
    "\n",
    "この瞬間の増加量のことを$ \\frac{dy}{dx} = f'(x)$\n",
    "と表し、今回の場合は\n",
    "$ f'(x) = 2x$\n",
    "となる。\n",
    "\n",
    "これは**傾き**とも呼ばれるが、**その瞬間の$x$にてどれだけ$\\Delta y$が期待できるか**を表す数値となる。\n",
    "\n",
    "このように$f'(x)$を求めることを**「関数$f(x)$を微分する。」**という。\n"
   ]
  },
  {
   "cell_type": "markdown",
   "metadata": {},
   "source": [
    "# 偏微分とは\n",
    "\n",
    "話を簡単にするために三次元空間の関数\n",
    "$z = x^2 + y^3 + 2x + 3y$\n",
    "のような関数を扱う。\n",
    "\n",
    "**偏微分**とは\n",
    "**ある変数にだけ着目し、それ以外の変数を定数とみなして微分を行う**ことです。\n",
    "\n",
    "今回の場合は$x$に着目する偏微分は$\\frac{dz}{dx} = f'_x(x,y)$、\n",
    "\n",
    "$y$に着目する偏微分は$\\frac{dz}{dy} = f'_y(x,y)$と書きます。\n",
    "\n",
    "実際に計算してみましょう。\n",
    "\n",
    "\n",
    "まず下記がz=f(x,y)をプロットしたものです。\n"
   ]
  },
  {
   "cell_type": "code",
   "execution_count": 4,
   "metadata": {},
   "outputs": [],
   "source": [
    "import numpy as np\n",
    "import pandas as pd\n",
    "import matplotlib.pyplot as plt\n"
   ]
  },
  {
   "cell_type": "markdown",
   "metadata": {},
   "source": [
    "次に$$"
   ]
  },
  {
   "cell_type": "markdown",
   "metadata": {},
   "source": [
    "# MLDLにおいて微分、偏微分はどのように使われるか？\n",
    "\n",
    "機械学習の基本はn個の入力値${x_1, x_2, ... ,x_n}$それぞれに対し、\n",
    "その入力値の重み$\\theta _1,\\theta_2,...,\\theta_n$をかけた\n",
    "\n",
    "$f(x)= \\sum_{i=0}^n x_i \\theta_i$\n",
    "\n",
    "を最小、もしくは最大化することを求める問題と言えます。\n",
    "\n",
    "機械学習では$f(x)$は目的関数、コスト関数と呼びます。\n",
    "\n",
    "例をあげるなら、家の大きさ、築年数、駅からの近さなどの入力値から家の売値を予測するモデルを作るとします。\n",
    "それぞれの入力値の重み、つまり売値に寄与する入力値は重み$\\theta$を大きくするのです。\n",
    "\n",
    "データを使って、うまい$\\theta$値を見つけることができれば新しい家を売りに出そうとしたときに売れる価格で市場に出すことができます。\n",
    "\n",
    "この$\\theta$を求めるのに微分、それも偏微分を使います。\n",
    "\n",
    "偏微分はこの問題ではある$\\theta_i$に着目して微分を行います。\n",
    "\n",
    "$\\frac{df(x)}{d\\theta_i}$が０になったところがその最小値もしくは最大になります。\n",
    "\n",
    "関数の形や問題の性質によってうまくいかないこともありますが、\n",
    "\n",
    "**目的関数$f(x)$を最小、もしくは最大にするパラメータ$\\theta$を求めるために$\\theta$ごとの偏微分値を使う**こと\n",
    "\n",
    "が機械学習の基本になります。\n"
   ]
  },
  {
   "cell_type": "code",
   "execution_count": null,
   "metadata": {},
   "outputs": [],
   "source": []
  }
 ],
 "metadata": {
  "kernelspec": {
   "display_name": "Python 3",
   "language": "python",
   "name": "python3"
  },
  "language_info": {
   "codemirror_mode": {
    "name": "ipython",
    "version": 3
   },
   "file_extension": ".py",
   "mimetype": "text/x-python",
   "name": "python",
   "nbconvert_exporter": "python",
   "pygments_lexer": "ipython3",
   "version": "3.6.4"
  }
 },
 "nbformat": 4,
 "nbformat_minor": 2
}
