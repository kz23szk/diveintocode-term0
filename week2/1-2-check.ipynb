{
 "cells": [
  {
   "cell_type": "markdown",
   "metadata": {},
   "source": [
    "## 合成関数の偏微分\n",
    "\n",
    "$f(x, y) = (x^2 + y^2)\\sin{xy}をxで微分せよ。$"
   ]
  },
  {
   "cell_type": "code",
   "execution_count": 17,
   "metadata": {},
   "outputs": [
    {
     "name": "stdout",
     "output_type": "stream",
     "text": [
      "g(x, y)をxで微分すると2*x\n",
      "h(x, y)をxで微分するとy*cos(x*y)\n",
      "f(x, y)を合成関数の微分と考えて、xで微分すると2*x*sin(x*y) + y*(x**2 + y**2)*cos(x*y)\n",
      "f(x, y)をそのままxで微分すると2*x*sin(x*y) + y*(x**2 + y**2)*cos(x*y)\n"
     ]
    }
   ],
   "source": [
    "import sympy as sym\n",
    "import matplotlib.pyplot as plt\n",
    "\n",
    "# シンボル定義\n",
    "(x, y) = sym.symbols('x y')\n",
    "\n",
    "# 分解せずそのままの関数\n",
    "F1 = (x**2 + y**2) * sym.sin(x*y) \n",
    "\n",
    "# f(x,y) = g(x, y) h(x, y)の合成関数とみなす\n",
    "\n",
    "# g(x, y)\n",
    "G = (x**2 + y**2)\n",
    "# h(x, y)\n",
    "H = sym.sin(x*y)\n",
    "\n",
    "# それぞれｘで微分する\n",
    "dG_dx = sym.diff(G, x)\n",
    "dH_dx = sym.diff(H, x)\n",
    "\n",
    "# df(x, y)/dx = g'(x,y) h(x,y) + g(x, y)h'(x,y)なので \n",
    "dF_dx = dG_dx * H + G * dH_dx\n",
    "print('g(x, y)をxで微分すると{}'.format(dG_dx))\n",
    "print('h(x, y)をxで微分すると{}'.format(dH_dx))\n",
    "\n",
    "print('f(x, y)を合成関数の微分と考えて、xで微分すると{}'.format(dF_dx))\n",
    "\n",
    "print('f(x, y)をそのままxで微分すると{}'.format(sym.diff(F1, x)))"
   ]
  }
 ],
 "metadata": {
  "kernelspec": {
   "display_name": "Python 3",
   "language": "python",
   "name": "python3"
  },
  "language_info": {
   "codemirror_mode": {
    "name": "ipython",
    "version": 3
   },
   "file_extension": ".py",
   "mimetype": "text/x-python",
   "name": "python",
   "nbconvert_exporter": "python",
   "pygments_lexer": "ipython3",
   "version": "3.6.4"
  }
 },
 "nbformat": 4,
 "nbformat_minor": 2
}
